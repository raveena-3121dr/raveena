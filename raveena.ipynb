{
  "nbformat": 4,
  "nbformat_minor": 0,
  "metadata": {
    "colab": {
      "provenance": []
    },
    "kernelspec": {
      "name": "python3",
      "display_name": "Python 3"
    },
    "language_info": {
      "name": "python"
    }
  },
  "cells": [
    {
      "cell_type": "code",
      "source": [
        "# Install VADER library\n",
        "!pip install vaderSentiment\n",
        "\n",
        "# Import necessary libraries\n",
        "from vaderSentiment.vaderSentiment import SentimentIntensityAnalyzer\n",
        "\n",
        "# Initialize VADER sentiment analyzer\n",
        "analyzer = SentimentIntensityAnalyzer()\n",
        "\n",
        "# Sample text data\n",
        "texts = [\n",
        "    \"I love this product!\",\n",
        "    \"This movie is terrible.\",\n",
        "    \"The food was okay.\",\n",
        "    \"The service was excellent!\"\n",
        "]\n",
        "\n",
        "# Perform sentiment analysis on each text\n",
        "for text in texts:\n",
        "    sentiment_score = analyzer.polarity_scores(text)\n",
        "    print(f\"Text: {text}\")\n",
        "    print(f\"Sentiment score: {sentiment_score}\")\n",
        "    if sentiment_score['compound'] > 0:\n",
        "        print(\"Sentiment: Positive\")\n",
        "    elif sentiment_score['compound'] < 0:\n",
        "        print(\"Sentiment: Negative\")\n",
        "    else:\n",
        "        print(\"Sentiment: Neutral\")\n",
        "    print()"
      ],
      "metadata": {
        "id": "K1bB2bBBrKN3"
      },
      "execution_count": null,
      "outputs": []
    }
  ]
}